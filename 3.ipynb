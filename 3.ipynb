{
 "cells": [
  {
   "cell_type": "markdown",
   "id": "36a34894-edee-4645-b068-dafee941a881",
   "metadata": {},
   "source": [
    "# Q3. linear equation : y = b0 + b1*x"
   ]
  },
  {
   "cell_type": "code",
   "execution_count": 47,
   "id": "b53f3127-4554-4b97-865c-8f9148e85a5f",
   "metadata": {},
   "outputs": [],
   "source": [
    "import numpy as np\n",
    "import matplotlib.pyplot as plt\n",
    "from collections import Counter"
   ]
  },
  {
   "cell_type": "code",
   "execution_count": 31,
   "id": "e76428bf-5561-4c13-878a-9598903b465d",
   "metadata": {},
   "outputs": [],
   "source": [
    "def calculate_coefficients(x, y):\n",
    "\n",
    "    x_mean = np.mean(x)\n",
    "    y_mean = np.mean(y)\n",
    "    # print(x-x_mean)\n",
    "    numerator = np.sum((x - x_mean) * (y - y_mean))\n",
    "    denominator = np.sum((x - x_mean) ** 2)\n",
    "    # print(numerator,denominator)\n",
    "    \n",
    "    b0 = numerator / denominator\n",
    "    b1 = y_mean - b0 * x_mean\n",
    "    \n",
    "    return b0, b1"
   ]
  },
  {
   "cell_type": "code",
   "execution_count": 32,
   "id": "549fee90-10f4-4144-a592-57ed7c20e985",
   "metadata": {},
   "outputs": [],
   "source": [
    "def predict(x, b0, b1):\n",
    "    return b0 + b1 * x"
   ]
  },
  {
   "cell_type": "code",
   "execution_count": 33,
   "id": "91dd9db1-45c1-43f9-9c89-49cfe909e4ca",
   "metadata": {},
   "outputs": [],
   "source": [
    "def mean_squared_error(y_true, y_pred):\n",
    "    return np.mean((y_true - y_pred) ** 2)"
   ]
  },
  {
   "cell_type": "code",
   "execution_count": 34,
   "id": "c643512c-f15f-42db-ad66-a874fde3522b",
   "metadata": {},
   "outputs": [
    {
     "name": "stdout",
     "output_type": "stream",
     "text": [
      "Intercept (b0): 0.6\n",
      "Slope (b1): 2.2\n",
      "Predicted values: [ 2.8  5.   7.2  9.4 11.6]\n",
      "Mean Squared Error: 15.84\n"
     ]
    }
   ],
   "source": [
    "x = np.array([1, 2, 3, 4, 5])\n",
    "y = np.array([2, 4, 5, 4, 5])\n",
    "\n",
    "# Calculate coefficients\n",
    "b0, b1 = calculate_coefficients(x, y)\n",
    "print(f\"Intercept (b0): {b0}\")\n",
    "print(f\"Slope (b1): {b1}\")\n",
    "\n",
    "# Predict using the model\n",
    "y_pred = predict(x, b0, b1)\n",
    "print(f\"Predicted values: {y_pred}\")\n",
    "\n",
    "# Evaluate the model\n",
    "mse = mean_squared_error(y, y_pred)\n",
    "print(f\"Mean Squared Error: {mse}\")"
   ]
  },
  {
   "cell_type": "code",
   "execution_count": null,
   "id": "fe61a62a-ad37-4796-8f6e-d59218b93dc3",
   "metadata": {},
   "outputs": [],
   "source": []
  },
  {
   "cell_type": "markdown",
   "id": "08a03307-d5ae-40ac-9314-4dd06e278d58",
   "metadata": {},
   "source": [
    "# Q4 KNN"
   ]
  },
  {
   "cell_type": "code",
   "execution_count": 48,
   "id": "4fbf093e-afe1-480b-b8ea-b20356e6e6b5",
   "metadata": {},
   "outputs": [],
   "source": [
    "def euclidean_distance(point1, point2):\n",
    "    return np.sqrt(np.sum((point1 - point2) ** 2))"
   ]
  },
  {
   "cell_type": "code",
   "execution_count": 55,
   "id": "a6d4b0d6-e126-43be-9a3b-e566086e74b1",
   "metadata": {},
   "outputs": [],
   "source": [
    "def predict(X_train, y_train, X_test, k):\n",
    "    def majority_vote(neighbors):\n",
    "        count = Counter(neighbors)\n",
    "        print(count)\n",
    "        return count.most_common(1)[0][0]\n",
    "    \n",
    "    y_pred = []\n",
    "    for test_point in X_test:\n",
    "        \n",
    "        distances = [euclidean_distance(test_point, train_point) for train_point in X_train]\n",
    "        \n",
    "        k_indices = np.argsort(distances)[:k]\n",
    "        \n",
    "        k_nearest_labels = [y_train[i] for i in k_indices]\n",
    "        \n",
    "        y_pred.append(majority_vote(k_nearest_labels))\n",
    "    \n",
    "    return np.array(y_pred)"
   ]
  },
  {
   "cell_type": "code",
   "execution_count": 56,
   "id": "a31496e8-2599-402f-85ec-3fc541d07aa3",
   "metadata": {},
   "outputs": [],
   "source": [
    "def accuracy(y_true, y_pred):\n",
    "    return np.mean(y_true == y_pred)\n"
   ]
  },
  {
   "cell_type": "code",
   "execution_count": 57,
   "id": "99edadd4-13ce-4669-8545-35961bac89cc",
   "metadata": {},
   "outputs": [
    {
     "name": "stdout",
     "output_type": "stream",
     "text": [
      "Counter({0: 1})\n",
      "Counter({1: 1})\n",
      "Predicted labels for K(1): [0 1]\n",
      "Accuracy for K(1): 100.00%\n",
      "Counter({0: 2})\n",
      "Counter({1: 2})\n",
      "Predicted labels for K(2): [0 1]\n",
      "Accuracy for K(2): 100.00%\n",
      "Counter({0: 2, 1: 1})\n",
      "Counter({1: 2, 0: 1})\n",
      "Predicted labels for K(3): [0 1]\n",
      "Accuracy for K(3): 100.00%\n"
     ]
    }
   ],
   "source": [
    "X_train = np.array([[2, 3], [1, 1], [4,5], [6, 7], [3, 2]])\n",
    "y_train = np.array([0, 0, 1, 1, 0])\n",
    "X_test = np.array([[3, 3], [5, 6]])\n",
    "\n",
    "k_values = range(1, 4)\n",
    "\n",
    "for k in k_values:\n",
    "    y_pred = predict(X_train, y_train, X_test, k)\n",
    "    print(f\"Predicted labels for K({k}): {y_pred}\")\n",
    "    \n",
    "    y_true = np.array([0, 1])\n",
    "    \n",
    "    acc = accuracy(y_true, y_pred)\n",
    "    print(f\"Accuracy for K({k}): {acc * 100:.2f}%\")"
   ]
  },
  {
   "cell_type": "code",
   "execution_count": null,
   "id": "a1ad2d6c-fa69-490a-a0bf-c42880185156",
   "metadata": {},
   "outputs": [],
   "source": []
  }
 ],
 "metadata": {
  "kernelspec": {
   "display_name": "Python 3 (ipykernel)",
   "language": "python",
   "name": "python3"
  },
  "language_info": {
   "codemirror_mode": {
    "name": "ipython",
    "version": 3
   },
   "file_extension": ".py",
   "mimetype": "text/x-python",
   "name": "python",
   "nbconvert_exporter": "python",
   "pygments_lexer": "ipython3",
   "version": "3.11.4"
  }
 },
 "nbformat": 4,
 "nbformat_minor": 5
}
